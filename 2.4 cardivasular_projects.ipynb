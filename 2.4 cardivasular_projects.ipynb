pd.read_csv("file")
